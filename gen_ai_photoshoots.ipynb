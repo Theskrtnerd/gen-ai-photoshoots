{
  "cells": [
    {
      "cell_type": "markdown",
      "metadata": {
        "id": "view-in-github",
        "colab_type": "text"
      },
      "source": [
        "<a href=\"https://colab.research.google.com/github/Theskrtnerd/gen-ai-photoshoots/blob/main/gen_ai_photoshoots.ipynb\" target=\"_parent\"><img src=\"https://colab.research.google.com/assets/colab-badge.svg\" alt=\"Open In Colab\"/></a>"
      ]
    },
    {
      "cell_type": "code",
      "source": [
        "#@title Installing all the dependencies for the project\n",
        "%%capture\n",
        "%cd /content/\n",
        "# Clone the repository if it doesn't exist\n",
        "import os\n",
        "if not os.path.isdir('app'):\n",
        "    !git clone https://github.com/Theskrtnerd/gen-ai-photoshoots app\n",
        "else:\n",
        "    print(\"Directory 'app/' already exists. Skipping clone.\")\n",
        "!sudo apt install pipx\n",
        "!pipx ensurepath\n",
        "!cp -r /root/.local/bin /usr/local\n",
        "%cd app\n",
        "!sudo apt-get install python3.12\n",
        "!pipx install --python python3.12 poetry\n",
        "!poetry install"
      ],
      "metadata": {
        "id": "93-w5h5BzVQj",
        "cellView": "form"
      },
      "execution_count": 9,
      "outputs": []
    },
    {
      "cell_type": "code",
      "execution_count": null,
      "metadata": {
        "id": "2ESuBiTXOh69",
        "colab": {
          "base_uri": "https://localhost:8080/"
        },
        "cellView": "form",
        "outputId": "a9dd57c3-3d2f-44c5-a660-a5c46dfe3f7b"
      },
      "outputs": [
        {
          "output_type": "stream",
          "name": "stdout",
          "text": [
            "/content/app\n",
            "Here's your public URL:  https://9a84-34-142-212-198.ngrok-free.app\n"
          ]
        }
      ],
      "source": [
        "#@title Installing all the dependencies for the project\n",
        "# @markdown Please go to [Ngrok Dashboard](https://dashboard.ngrok.com/get-started/your-authtoken), sign up (if you've not already) and get your auth token.\n",
        "\n",
        "# @markdown Enter the auth token here:\n",
        "ngrok_key = \"2gssWVZmNGCsLcs8n3NAulvIqYE_5DupK4SWUHnGbWjAe7WAw\" # @param {type:\"string\"}\n",
        "%cd /content/app\n",
        "!pip install pyngrok > /dev/null\n",
        "from pyngrok import conf, ngrok\n",
        "conf.get_default().region = \"us\"\n",
        "conf.get_default().auth_token = ngrok_key\n",
        "port = 8501\n",
        "public_url = ngrok.connect(port).public_url\n",
        "print(\"Here's your public URL: \", public_url)\n",
        "!poetry run streamlit run gen_ai_photoshoots/main.py > /dev/null &"
      ]
    }
  ],
  "metadata": {
    "accelerator": "GPU",
    "colab": {
      "gpuType": "T4",
      "provenance": [],
      "include_colab_link": true
    },
    "kernelspec": {
      "display_name": "Python 3",
      "name": "python3"
    },
    "language_info": {
      "name": "python"
    }
  },
  "nbformat": 4,
  "nbformat_minor": 0
}