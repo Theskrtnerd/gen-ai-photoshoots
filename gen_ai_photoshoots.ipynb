{
  "cells": [
    {
      "cell_type": "markdown",
      "metadata": {
        "id": "view-in-github",
        "colab_type": "text"
      },
      "source": [
        "<a href=\"https://colab.research.google.com/github/Theskrtnerd/gen-ai-photoshoots/blob/main/gen_ai_photoshoots.ipynb\" target=\"_parent\"><img src=\"https://colab.research.google.com/assets/colab-badge.svg\" alt=\"Open In Colab\"/></a>"
      ]
    },
    {
      "cell_type": "code",
      "source": [
        "#@title Seeing the Colab's IP location's country\n",
        "# @markdown Note: The Google Gemini API will not work if the country's the Netherlands. So make sure the IP's country is US before continuing.\n",
        "import requests\n",
        "ip_address = requests.get('http://ipecho.net/plain').text\n",
        "# Step 2: Get the geographical location\n",
        "response = requests.get(f'https://ipinfo.io/{ip_address}/json')\n",
        "location_info = response.json()\n",
        "\n",
        "print(location_info[\"country\"])"
      ],
      "metadata": {
        "colab": {
          "base_uri": "https://localhost:8080/"
        },
        "cellView": "form",
        "id": "vRDUgYMix57i",
        "outputId": "1a81aeaa-b460-4aa8-bbba-cf99b92d741d"
      },
      "execution_count": 1,
      "outputs": [
        {
          "output_type": "stream",
          "name": "stdout",
          "text": [
            "US\n"
          ]
        }
      ]
    },
    {
      "cell_type": "code",
      "execution_count": 2,
      "metadata": {
        "id": "93-w5h5BzVQj",
        "colab": {
          "base_uri": "https://localhost:8080/"
        },
        "outputId": "adf2227c-53b9-43fc-9b72-adf795400e41",
        "cellView": "form"
      },
      "outputs": [
        {
          "output_type": "stream",
          "name": "stdout",
          "text": [
            "/content\n",
            "/content/app\n"
          ]
        }
      ],
      "source": [
        "#@title Installing all the dependencies for the project\n",
        "%cd /content/\n",
        "# Clone the repository if it doesn't exist\n",
        "import os\n",
        "if not os.path.isdir('app'):\n",
        "    !git clone --quiet https://github.com/Theskrtnerd/gen-ai-photoshoots app\n",
        "else:\n",
        "    print(\"Directory 'app/' already exists. Skipping clone.\")\n",
        "!sudo apt install pipx > /dev/null 2>&1\n",
        "!pipx ensurepath > /dev/null 2>&1\n",
        "!cp -r /root/.local/bin /usr/local\n",
        "%cd app\n",
        "!sudo apt-get install python3.12 > /dev/null 2>&1\n",
        "!pipx install --python python3.12 poetry > /dev/null 2>&1\n",
        "!cp -r /root/.local/bin /usr/local\n",
        "!poetry install -q"
      ]
    },
    {
      "cell_type": "code",
      "execution_count": null,
      "metadata": {
        "cellView": "form",
        "id": "2ESuBiTXOh69"
      },
      "outputs": [],
      "source": [
        "#@title Setting up the webserver\n",
        "# @markdown Please go to [Ngrok Dashboard](https://dashboard.ngrok.com/get-started/your-authtoken), sign up (if you've not already) and get your auth token.\n",
        "\n",
        "# @markdown Enter the auth token here:\n",
        "ngrok_key = \"\" # @param {type:\"string\"}\n",
        "%cd /content/app\n",
        "!pip install pyngrok > /dev/null\n",
        "from pyngrok import conf, ngrok\n",
        "conf.get_default().region = \"us\"\n",
        "conf.get_default().auth_token = ngrok_key\n",
        "port = 8501\n",
        "public_url = ngrok.connect(port).public_url\n",
        "print(\"Here's your public URL: \", public_url)\n",
        "!poetry run streamlit run gen_ai_photoshoots/main.py > /dev/null &"
      ]
    }
  ],
  "metadata": {
    "accelerator": "GPU",
    "colab": {
      "gpuType": "T4",
      "provenance": [],
      "include_colab_link": true
    },
    "kernelspec": {
      "display_name": "Python 3",
      "name": "python3"
    },
    "language_info": {
      "name": "python"
    }
  },
  "nbformat": 4,
  "nbformat_minor": 0
}